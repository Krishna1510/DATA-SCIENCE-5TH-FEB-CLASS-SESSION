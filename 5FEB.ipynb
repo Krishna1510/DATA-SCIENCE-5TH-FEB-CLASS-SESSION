{
 "cells": [
  {
   "cell_type": "markdown",
   "id": "7bf1b6b4-48b0-41ab-834c-0dad66d63be1",
   "metadata": {},
   "source": [
    "# OOPS\n",
    " Oops stands for object oriented programming system"
   ]
  },
  {
   "cell_type": "code",
   "execution_count": 1,
   "id": "ba9876f9-26c9-441f-b0d8-0d67c655ba37",
   "metadata": {},
   "outputs": [],
   "source": [
    "a=1"
   ]
  },
  {
   "cell_type": "code",
   "execution_count": 3,
   "id": "4fc6ebf8-9bb1-4002-a751-536e96d5b1eb",
   "metadata": {},
   "outputs": [
    {
     "name": "stdout",
     "output_type": "stream",
     "text": [
      "<class 'int'>\n"
     ]
    }
   ],
   "source": [
    "print(type(a))"
   ]
  },
  {
   "cell_type": "code",
   "execution_count": 4,
   "id": "6e11a06b-577e-437f-984b-a43ba370e03c",
   "metadata": {},
   "outputs": [
    {
     "name": "stdout",
     "output_type": "stream",
     "text": [
      "<class 'str'>\n"
     ]
    }
   ],
   "source": [
    "print(type(\"krishna\"))"
   ]
  },
  {
   "cell_type": "code",
   "execution_count": 5,
   "id": "fb4878c4-a6f4-42ef-8c20-51c45918eb41",
   "metadata": {},
   "outputs": [
    {
     "ename": "SyntaxError",
     "evalue": "incomplete input (3527747674.py, line 1)",
     "output_type": "error",
     "traceback": [
      "\u001b[0;36m  Cell \u001b[0;32mIn[5], line 1\u001b[0;36m\u001b[0m\n\u001b[0;31m    class test:\u001b[0m\n\u001b[0m               ^\u001b[0m\n\u001b[0;31mSyntaxError\u001b[0m\u001b[0;31m:\u001b[0m incomplete input\n"
     ]
    }
   ],
   "source": [
    "class test:"
   ]
  },
  {
   "cell_type": "code",
   "execution_count": 6,
   "id": "cda16fbc-4d56-4c83-9c92-6d8d5fefd48a",
   "metadata": {},
   "outputs": [],
   "source": [
    "class test:\n",
    "    pass"
   ]
  },
  {
   "cell_type": "code",
   "execution_count": 7,
   "id": "1071d61c-da41-4935-a1bf-68bba13d795d",
   "metadata": {},
   "outputs": [],
   "source": [
    "a = test"
   ]
  },
  {
   "cell_type": "code",
   "execution_count": 9,
   "id": "95b61925-8df5-4462-803d-8128c7d2729d",
   "metadata": {},
   "outputs": [
    {
     "data": {
      "text/plain": [
       "type"
      ]
     },
     "execution_count": 9,
     "metadata": {},
     "output_type": "execute_result"
    }
   ],
   "source": [
    "type(test)"
   ]
  },
  {
   "cell_type": "code",
   "execution_count": 10,
   "id": "722209b3-8ef0-4800-8dee-6ad3b53f6058",
   "metadata": {},
   "outputs": [
    {
     "name": "stdout",
     "output_type": "stream",
     "text": [
      "<class 'type'>\n"
     ]
    }
   ],
   "source": [
    "print(type(a))"
   ]
  },
  {
   "cell_type": "code",
   "execution_count": 24,
   "id": "d89ac236-d994-4cf8-a124-3dc633cf9bea",
   "metadata": {},
   "outputs": [],
   "source": [
    "class pwskills:\n",
    "    def welcome_msg():\n",
    "        print(\" welcome to pw skills\")"
   ]
  },
  {
   "cell_type": "code",
   "execution_count": 25,
   "id": "dc9aa7ba-d6ed-4797-bf20-fc84ea95103a",
   "metadata": {},
   "outputs": [],
   "source": [
    "rohan = pwskills()"
   ]
  },
  {
   "cell_type": "code",
   "execution_count": 27,
   "id": "13c8d1ef-ccfc-40a2-877f-086d05cdf5be",
   "metadata": {},
   "outputs": [
    {
     "ename": "TypeError",
     "evalue": "pwskills.welcome_msg() takes 0 positional arguments but 1 was given",
     "output_type": "error",
     "traceback": [
      "\u001b[0;31m---------------------------------------------------------------------------\u001b[0m",
      "\u001b[0;31mTypeError\u001b[0m                                 Traceback (most recent call last)",
      "Cell \u001b[0;32mIn[27], line 1\u001b[0m\n\u001b[0;32m----> 1\u001b[0m \u001b[43mrohan\u001b[49m\u001b[38;5;241;43m.\u001b[39;49m\u001b[43mwelcome_msg\u001b[49m\u001b[43m(\u001b[49m\u001b[43m)\u001b[49m\n",
      "\u001b[0;31mTypeError\u001b[0m: pwskills.welcome_msg() takes 0 positional arguments but 1 was given"
     ]
    }
   ],
   "source": [
    "rohan.welcome_msg()"
   ]
  },
  {
   "cell_type": "code",
   "execution_count": 31,
   "id": "813fbafd-580b-4a5a-83dc-c6a9ad5b62be",
   "metadata": {},
   "outputs": [],
   "source": [
    "class pwskills:\n",
    "    def welcome_msg(self):\n",
    "        print(\" welcome to pw skills\")"
   ]
  },
  {
   "cell_type": "code",
   "execution_count": 32,
   "id": "2736d648-fd00-49a5-a4a8-76b20ab0b964",
   "metadata": {},
   "outputs": [],
   "source": [
    "rohan = pwskills()"
   ]
  },
  {
   "cell_type": "code",
   "execution_count": 33,
   "id": "8c6e6c20-5e5f-4f64-a49c-ff69b6395ea5",
   "metadata": {},
   "outputs": [
    {
     "name": "stdout",
     "output_type": "stream",
     "text": [
      " welcome to pw skills\n"
     ]
    }
   ],
   "source": [
    "rohan.welcome_msg()"
   ]
  },
  {
   "cell_type": "code",
   "execution_count": 34,
   "id": "e761dae8-f8c1-4562-9ab6-f14285bfb9fe",
   "metadata": {},
   "outputs": [],
   "source": [
    "aman = pwskills()"
   ]
  },
  {
   "cell_type": "code",
   "execution_count": 35,
   "id": "40a4336d-f47f-443e-b041-33382866c33c",
   "metadata": {},
   "outputs": [
    {
     "name": "stdout",
     "output_type": "stream",
     "text": [
      " welcome to pw skills\n"
     ]
    }
   ],
   "source": [
    "aman.welcome_msg()"
   ]
  },
  {
   "cell_type": "code",
   "execution_count": 36,
   "id": "e7bb4213-c916-465d-aaa5-8eb0b4f8954f",
   "metadata": {},
   "outputs": [],
   "source": [
    "a=1"
   ]
  },
  {
   "cell_type": "code",
   "execution_count": 37,
   "id": "5046281a-ed67-44cb-917a-fdde5598cdf0",
   "metadata": {},
   "outputs": [],
   "source": [
    "b=2"
   ]
  },
  {
   "cell_type": "code",
   "execution_count": 38,
   "id": "b6727e82-9055-4fe2-a3b7-2344ec1a13c1",
   "metadata": {},
   "outputs": [
    {
     "data": {
      "text/plain": [
       "1"
      ]
     },
     "execution_count": 38,
     "metadata": {},
     "output_type": "execute_result"
    }
   ],
   "source": [
    "a"
   ]
  },
  {
   "cell_type": "code",
   "execution_count": 39,
   "id": "19d1d6eb-b543-4ddb-a7d6-f747f7531c33",
   "metadata": {},
   "outputs": [
    {
     "data": {
      "text/plain": [
       "2"
      ]
     },
     "execution_count": 39,
     "metadata": {},
     "output_type": "execute_result"
    }
   ],
   "source": [
    "b"
   ]
  },
  {
   "cell_type": "markdown",
   "id": "218c016f-b293-487f-b6d9-3bf43763eab6",
   "metadata": {},
   "source": [
    "# constructor"
   ]
  },
  {
   "cell_type": "code",
   "execution_count": 72,
   "id": "1818e3ed-c0e6-4478-92ce-d55827a6eb13",
   "metadata": {},
   "outputs": [],
   "source": [
    "class masters_batch:\n",
    "    def __init__ (self, phone_number , email_id , student_id ):\n",
    "        self.phone_number=phone_number\n",
    "        self.email_id=email_id\n",
    "        self.student_id=student_id\n",
    "        \n",
    "    def return_student_details(self):\n",
    "            return self.phone_number ,self.email_id , self.student_id"
   ]
  },
  {
   "cell_type": "code",
   "execution_count": 73,
   "id": "0a6d954d-2589-415b-bec5-1e9c2aeef80f",
   "metadata": {},
   "outputs": [],
   "source": [
    "sohan = masters_batch(252555555 , \"sohan@gmail.com\" , 953)"
   ]
  },
  {
   "cell_type": "code",
   "execution_count": 74,
   "id": "d9497c6e-7df8-443f-9b2b-41746af3ee76",
   "metadata": {},
   "outputs": [
    {
     "data": {
      "text/plain": [
       "252555555"
      ]
     },
     "execution_count": 74,
     "metadata": {},
     "output_type": "execute_result"
    }
   ],
   "source": [
    "sohan.phone_number"
   ]
  },
  {
   "cell_type": "code",
   "execution_count": 75,
   "id": "7b8d6527-c21a-4b78-8f68-b6fb607ca757",
   "metadata": {},
   "outputs": [
    {
     "data": {
      "text/plain": [
       "953"
      ]
     },
     "execution_count": 75,
     "metadata": {},
     "output_type": "execute_result"
    }
   ],
   "source": [
    "sohan.student_id"
   ]
  },
  {
   "cell_type": "code",
   "execution_count": 76,
   "id": "2205c240-fc72-4a5a-86b9-912cb31cb5dc",
   "metadata": {},
   "outputs": [
    {
     "data": {
      "text/plain": [
       "(252555555, 'sohan@gmail.com', 953)"
      ]
     },
     "execution_count": 76,
     "metadata": {},
     "output_type": "execute_result"
    }
   ],
   "source": [
    "sohan.return_student_details()"
   ]
  },
  {
   "cell_type": "code",
   "execution_count": 80,
   "id": "1380edd1-37ae-41bc-aa1b-a6d8119b4afd",
   "metadata": {},
   "outputs": [],
   "source": [
    "mohan = masters_batch(42569565 , \"mohan@gmail.com\" , 950)"
   ]
  },
  {
   "cell_type": "code",
   "execution_count": 81,
   "id": "7b80de12-45a5-42ad-8f0a-e89ef1083549",
   "metadata": {},
   "outputs": [
    {
     "data": {
      "text/plain": [
       "42569565"
      ]
     },
     "execution_count": 81,
     "metadata": {},
     "output_type": "execute_result"
    }
   ],
   "source": [
    "mohan.phone_number"
   ]
  },
  {
   "cell_type": "code",
   "execution_count": 82,
   "id": "6a6466ef-b88f-4a86-a9db-b9413881c93f",
   "metadata": {},
   "outputs": [
    {
     "data": {
      "text/plain": [
       "(42569565, 'mohan@gmail.com', 950)"
      ]
     },
     "execution_count": 82,
     "metadata": {},
     "output_type": "execute_result"
    }
   ],
   "source": [
    "mohan.return_student_details()"
   ]
  },
  {
   "cell_type": "code",
   "execution_count": 85,
   "id": "526e0d9f-1b6e-4210-8fda-67b4e9ce6dfe",
   "metadata": {},
   "outputs": [],
   "source": [
    "class masters_batch2:\n",
    "    def __init__ (hello, phone_number , email_id , student_id ):\n",
    "        hello.phone_number=phone_number\n",
    "        hello.email_id=email_id\n",
    "        hello.student_id=student_id\n",
    "        \n",
    "    def return_student_details(hello):\n",
    "            return hello.phone_number ,hello.email_id , hello.student_id"
   ]
  },
  {
   "cell_type": "code",
   "execution_count": 86,
   "id": "3533db45-206e-4191-a2eb-e7ffd7cdb66f",
   "metadata": {},
   "outputs": [],
   "source": [
    "mohan = masters_batch2(425695625 , \"mohan1@gmail.com\" , 9501)"
   ]
  },
  {
   "cell_type": "code",
   "execution_count": 87,
   "id": "8404f7a4-01aa-4f1b-bbcb-aff86c3e1180",
   "metadata": {},
   "outputs": [
    {
     "data": {
      "text/plain": [
       "425695625"
      ]
     },
     "execution_count": 87,
     "metadata": {},
     "output_type": "execute_result"
    }
   ],
   "source": [
    "mohan.phone_number"
   ]
  },
  {
   "cell_type": "code",
   "execution_count": 88,
   "id": "1dd887ef-9969-45d8-80d2-4da7a75a32f7",
   "metadata": {},
   "outputs": [
    {
     "data": {
      "text/plain": [
       "(425695625, 'mohan1@gmail.com', 9501)"
      ]
     },
     "execution_count": 88,
     "metadata": {},
     "output_type": "execute_result"
    }
   ],
   "source": [
    "mohan.return_student_details()"
   ]
  },
  {
   "cell_type": "code",
   "execution_count": 89,
   "id": "b5204b14-ef89-4d3d-b4e6-8882ab386f62",
   "metadata": {},
   "outputs": [],
   "source": [
    "class masters_batch2:\n",
    "    def __init__ (hello, phone_number , email_id , student_id ):\n",
    "        hello.phone_number1=phone_number\n",
    "        hello.email_id=email_id\n",
    "        hello.student_id=student_id\n",
    "        \n",
    "    def return_student_details(hello):\n",
    "            return hello.phone_number ,hello.email_id , hello.student_id"
   ]
  },
  {
   "cell_type": "code",
   "execution_count": 90,
   "id": "6b170a74-bf55-47f5-b569-8a1837ae9a2b",
   "metadata": {},
   "outputs": [],
   "source": [
    "mohan = masters_batch2(425695625 , \"mohan1@gmail.com\" , 9501)"
   ]
  },
  {
   "cell_type": "code",
   "execution_count": 91,
   "id": "a35029e2-e952-4e38-b4f7-f369189ea2d9",
   "metadata": {},
   "outputs": [
    {
     "ename": "AttributeError",
     "evalue": "'masters_batch2' object has no attribute 'phone_number'",
     "output_type": "error",
     "traceback": [
      "\u001b[0;31m---------------------------------------------------------------------------\u001b[0m",
      "\u001b[0;31mAttributeError\u001b[0m                            Traceback (most recent call last)",
      "Cell \u001b[0;32mIn[91], line 1\u001b[0m\n\u001b[0;32m----> 1\u001b[0m \u001b[43mmohan\u001b[49m\u001b[38;5;241;43m.\u001b[39;49m\u001b[43mphone_number\u001b[49m\n",
      "\u001b[0;31mAttributeError\u001b[0m: 'masters_batch2' object has no attribute 'phone_number'"
     ]
    }
   ],
   "source": [
    "mohan.phone_number"
   ]
  },
  {
   "cell_type": "code",
   "execution_count": 92,
   "id": "64de1358-bf6b-471e-b571-5799c8192ae4",
   "metadata": {},
   "outputs": [
    {
     "data": {
      "text/plain": [
       "425695625"
      ]
     },
     "execution_count": 92,
     "metadata": {},
     "output_type": "execute_result"
    }
   ],
   "source": [
    "mohan.phone_number1"
   ]
  },
  {
   "cell_type": "code",
   "execution_count": null,
   "id": "67b51832-6f35-47df-b7d6-8a0f6e330400",
   "metadata": {},
   "outputs": [],
   "source": []
  }
 ],
 "metadata": {
  "kernelspec": {
   "display_name": "Python 3 (ipykernel)",
   "language": "python",
   "name": "python3"
  },
  "language_info": {
   "codemirror_mode": {
    "name": "ipython",
    "version": 3
   },
   "file_extension": ".py",
   "mimetype": "text/x-python",
   "name": "python",
   "nbconvert_exporter": "python",
   "pygments_lexer": "ipython3",
   "version": "3.10.8"
  }
 },
 "nbformat": 4,
 "nbformat_minor": 5
}
